{
  "nbformat": 4,
  "nbformat_minor": 0,
  "metadata": {
    "colab": {
      "provenance": []
    },
    "kernelspec": {
      "name": "python3",
      "display_name": "Python 3"
    },
    "language_info": {
      "name": "python"
    }
  },
  "cells": [
    {
      "cell_type": "code",
      "execution_count": 1,
      "metadata": {
        "colab": {
          "base_uri": "https://localhost:8080/"
        },
        "id": "uMDeItL3fX2T",
        "outputId": "d36fc8bb-ca2f-4b34-9280-3769765a30ce"
      },
      "outputs": [
        {
          "output_type": "stream",
          "name": "stdout",
          "text": [
            "\r0% [Working]\r            \rGet:1 https://cloud.r-project.org/bin/linux/ubuntu focal-cran40/ InRelease [3,622 B]\n",
            "\r0% [Connecting to archive.ubuntu.com (185.125.190.36)] [Connecting to security.\r0% [Connecting to archive.ubuntu.com (185.125.190.36)] [Connecting to security.\r                                                                               \rHit:2 http://archive.ubuntu.com/ubuntu focal InRelease\n",
            "\r                                                                               \r0% [Waiting for headers] [Waiting for headers] [Waiting for headers]\r                                                                    \rGet:3 http://security.ubuntu.com/ubuntu focal-security InRelease [114 kB]\n",
            "\r0% [Waiting for headers] [3 InRelease 14.2 kB/114 kB 12%] [Waiting for headers]\r                                                                               \rGet:4 http://ppa.launchpad.net/c2d4u.team/c2d4u4.0+/ubuntu focal InRelease [18.1 kB]\n",
            "\r0% [Waiting for headers] [3 InRelease 14.2 kB/114 kB 12%] [Waiting for headers]\r                                                                               \rIgn:5 https://developer.download.nvidia.com/compute/machine-learning/repos/ubuntu2004/x86_64  InRelease\n",
            "\r0% [Waiting for headers] [3 InRelease 14.2 kB/114 kB 12%] [Waiting for headers]\r                                                                               \rHit:6 https://developer.download.nvidia.com/compute/cuda/repos/ubuntu2004/x86_64  InRelease\n",
            "Hit:7 https://developer.download.nvidia.com/compute/machine-learning/repos/ubuntu2004/x86_64  Release\n",
            "Get:8 http://archive.ubuntu.com/ubuntu focal-updates InRelease [114 kB]\n",
            "Get:9 https://cloud.r-project.org/bin/linux/ubuntu focal-cran40/ Packages [71.4 kB]\n",
            "Hit:10 http://ppa.launchpad.net/cran/libgit2/ubuntu focal InRelease\n",
            "Hit:11 http://ppa.launchpad.net/deadsnakes/ppa/ubuntu focal InRelease\n",
            "Get:12 http://archive.ubuntu.com/ubuntu focal-backports InRelease [108 kB]\n",
            "Hit:14 http://ppa.launchpad.net/graphics-drivers/ppa/ubuntu focal InRelease\n",
            "Get:15 http://ppa.launchpad.net/c2d4u.team/c2d4u4.0+/ubuntu focal/main Sources [2,385 kB]\n",
            "Get:16 http://security.ubuntu.com/ubuntu focal-security/universe amd64 Packages [991 kB]\n",
            "Get:17 http://archive.ubuntu.com/ubuntu focal-updates/restricted amd64 Packages [2,011 kB]\n",
            "Get:18 http://security.ubuntu.com/ubuntu focal-security/multiverse amd64 Packages [28.5 kB]\n",
            "Get:19 http://security.ubuntu.com/ubuntu focal-security/main amd64 Packages [2,448 kB]\n",
            "Get:20 http://archive.ubuntu.com/ubuntu focal-updates/main amd64 Packages [2,924 kB]\n",
            "Get:21 http://archive.ubuntu.com/ubuntu focal-updates/universe amd64 Packages [1,291 kB]\n",
            "Get:22 http://ppa.launchpad.net/c2d4u.team/c2d4u4.0+/ubuntu focal/main amd64 Packages [1,130 kB]\n",
            "Fetched 13.6 MB in 3s (5,229 kB/s)\n",
            "Reading package lists... Done\n"
          ]
        }
      ],
      "source": [
        "import os\n",
        "# Find the latest version of spark 3.2 from http://www.apache.org/dist/spark/ and enter as the spark version\n",
        "# For example:\n",
        "# spark_version = 'spark-3.2.3'\n",
        "spark_version = 'spark-3.2.3'\n",
        "os.environ['SPARK_VERSION']=spark_version\n",
        "\n",
        "# Install Spark and Java\n",
        "!apt-get update\n",
        "!apt-get install openjdk-11-jdk-headless -qq > /dev/null\n",
        "!wget -q http://www.apache.org/dist/spark/$SPARK_VERSION/$SPARK_VERSION-bin-hadoop2.7.tgz\n",
        "!tar xf $SPARK_VERSION-bin-hadoop2.7.tgz\n",
        "!pip install -q findspark\n",
        "\n",
        "# Set Environment Variables\n",
        "import os\n",
        "os.environ[\"JAVA_HOME\"] = \"/usr/lib/jvm/java-11-openjdk-amd64\"\n",
        "os.environ[\"SPARK_HOME\"] = f\"/content/{spark_version}-bin-hadoop2.7\"\n",
        "\n",
        "# Start a SparkSession\n",
        "import findspark\n",
        "findspark.init()"
      ]
    },
    {
      "cell_type": "code",
      "source": [
        "# Download the Postgres driver that will allow Spark to interact with Postgres.\n",
        "!wget https://jdbc.postgresql.org/download/postgresql-42.2.16.jar"
      ],
      "metadata": {
        "colab": {
          "base_uri": "https://localhost:8080/"
        },
        "id": "lbXdE6zTfhaD",
        "outputId": "d2f9d3e5-93e9-4b52-e02d-8e45bda668dd"
      },
      "execution_count": 2,
      "outputs": [
        {
          "output_type": "stream",
          "name": "stdout",
          "text": [
            "--2023-02-07 06:29:59--  https://jdbc.postgresql.org/download/postgresql-42.2.16.jar\n",
            "Resolving jdbc.postgresql.org (jdbc.postgresql.org)... 72.32.157.228, 2001:4800:3e1:1::228\n",
            "Connecting to jdbc.postgresql.org (jdbc.postgresql.org)|72.32.157.228|:443... connected.\n",
            "HTTP request sent, awaiting response... 200 OK\n",
            "Length: 1002883 (979K) [application/java-archive]\n",
            "Saving to: ‘postgresql-42.2.16.jar’\n",
            "\n",
            "postgresql-42.2.16. 100%[===================>] 979.38K  5.44MB/s    in 0.2s    \n",
            "\n",
            "2023-02-07 06:29:59 (5.44 MB/s) - ‘postgresql-42.2.16.jar’ saved [1002883/1002883]\n",
            "\n"
          ]
        }
      ]
    },
    {
      "cell_type": "code",
      "source": [
        "from pyspark.sql import SparkSession\n",
        "spark = SparkSession.builder.appName(\"M16-Amazon-Challenge\").config(\"spark.driver.extraClassPath\",\"/content/postgresql-42.2.16.jar\").getOrCreate()"
      ],
      "metadata": {
        "id": "s0Y4wd4ygLyk"
      },
      "execution_count": 3,
      "outputs": []
    },
    {
      "cell_type": "code",
      "source": [
        "from pyspark import SparkFiles\n",
        "url = \"https://s3.amazonaws.com/amazon-reviews-pds/tsv/amazon_reviews_us_Wireless_v1_00.tsv.gz\"\n",
        "spark.sparkContext.addFile(url)\n",
        "df = spark.read.option(\"encoding\", \"UTF-8\").csv(SparkFiles.get(\"amazon_reviews_us_Wireless_v1_00.tsv.gz\"), sep=\"\\t\", header=True, inferSchema=True)\n",
        "df.show()"
      ],
      "metadata": {
        "colab": {
          "base_uri": "https://localhost:8080/"
        },
        "id": "QlMVIiG2gPpV",
        "outputId": "65cd2ed5-51aa-44bc-929d-9caf9ba2c35b"
      },
      "execution_count": 4,
      "outputs": [
        {
          "output_type": "stream",
          "name": "stdout",
          "text": [
            "+-----------+-----------+--------------+----------+--------------+--------------------+----------------+-----------+-------------+-----------+----+-----------------+--------------------+--------------------+-----------+\n",
            "|marketplace|customer_id|     review_id|product_id|product_parent|       product_title|product_category|star_rating|helpful_votes|total_votes|vine|verified_purchase|     review_headline|         review_body|review_date|\n",
            "+-----------+-----------+--------------+----------+--------------+--------------------+----------------+-----------+-------------+-----------+----+-----------------+--------------------+--------------------+-----------+\n",
            "|         US|   16414143|R3W4P9UBGNGH1U|B00YL0EKWE|     852431543|LG G4 Case Hard T...|        Wireless|          2|            1|          3|   N|                Y|Looks good, funct...|2 issues  -  Once...| 2015-08-31|\n",
            "|         US|   50800750|R15V54KBMTQWAY|B00XK95RPQ|     516894650|Selfie Stick Fibl...|        Wireless|          4|            0|          0|   N|                N| A fun little gadget|I’m embarrassed t...| 2015-08-31|\n",
            "|         US|   15184378| RY8I449HNXSVF|B00SXRXUKO|     984297154|Tribe AB40 Water ...|        Wireless|          5|            0|          0|   N|                Y|          Five Stars|  Fits iPhone 6 well| 2015-08-31|\n",
            "|         US|   10203548|R18TLJYCKJFLSR|B009V5X1CE|     279912704|RAVPower® Element...|        Wireless|          5|            0|          0|   N|                Y|       Great charger|Great charger.  I...| 2015-08-31|\n",
            "|         US|     488280|R1NK26SWS53B8Q|B00D93OVF0|     662791300|Fosmon Micro USB ...|        Wireless|          5|            0|          0|   N|                Y|          Five Stars|Great for the pri...| 2015-08-31|\n",
            "|         US|   13334021|R11LOHEDYJALTN|B00XVGJMDQ|     421688488|iPhone 6 Case, Vo...|        Wireless|          5|            0|          0|   N|                Y|          Five Stars|Great Case, bette...| 2015-08-31|\n",
            "|         US|   27520697|R3ALQVQB2P9LA7|B00KQW1X1C|     554285554|Nokia Lumia 630 R...|        Wireless|          4|            0|          0|   N|                Y|          Four Stars|Easy to set up an...| 2015-08-31|\n",
            "|         US|   48086021|R3MWLXLNO21PDQ|B00IP1MQNK|     488006702|Lumsing 10400mah ...|        Wireless|          5|            0|          0|   N|                Y|          Five Stars|         Works great| 2015-08-31|\n",
            "|         US|   12738196|R2L15IS24CX0LI|B00HVORET8|     389677711|iPhone 5S Battery...|        Wireless|          5|            0|          0|   N|                Y|      So far so good|So far so good. I...| 2015-08-31|\n",
            "|         US|   15867807|R1DJ8976WPWVZU|B00HX3G6J6|     299654876|HTC One M8 Screen...|        Wireless|          3|            0|          0|   N|                Y|seems durable but...|seems durable but...| 2015-08-31|\n",
            "|         US|    1972249|R3MRWNNR8CBTB7|B00U4NATNQ|     577878727|S6 Case - Bear Mo...|        Wireless|          5|            0|          0|   N|                Y|Super thin, light...|Super thin, light...| 2015-08-31|\n",
            "|         US|   10956619|R1DS6DKTUXAQK3|B00SZEFDH8|     654620704|BLU Studio X, Unl...|        Wireless|          5|            0|          0|   N|                Y|          Five Stars|As good as the Sa...| 2015-08-31|\n",
            "|         US|   14805911| RWJM5E0TWUJD2|B00JRJUL9U|     391166958|EZOPower 5-Port U...|        Wireless|          5|            0|          0|   N|                Y|            EZOPower|I received this o...| 2015-08-31|\n",
            "|         US|   15611116|R1XTJKDYNCRGAC|B00KQ4T0HE|     481551630|iPhone 6S Case &i...|        Wireless|          1|            0|          0|   N|                Y|Very cheap case. ...|Very cheap case. ...| 2015-08-31|\n",
            "|         US|   39298603|R2UZL3DPWEU1XW|B00M0YWKPM|     685107474| iPhone 6s Plus Case|        Wireless|          5|            0|          0|   N|                Y|          Five Stars|       son loves it.| 2015-08-31|\n",
            "|         US|   17552454|R2EZXET9KBFFU3|B00KDZEE68|     148320945|zBoost ZB575-A TR...|        Wireless|          1|            0|          0|   N|                Y|            One Star|you have to turn ...| 2015-08-31|\n",
            "|         US|   12218556|R26VY1L1FD3LPU|B00BJN45GM|      47788188|OtterBox Defender...|        Wireless|          5|            0|          0|   N|                Y|          Five Stars|  Awesome, thank you| 2015-08-31|\n",
            "|         US|   21872923|R2SSA4NSFCV18T|B00SA86SXW|     748759272|Aduro PowerUP 30W...|        Wireless|          5|            0|          0|   N|                N|          Five Stars|         nice, smart| 2015-08-31|\n",
            "|         US|   16264332|R1G6333JHJNEUQ|B00Q3I68TU|     974085141|LilGadgets Connec...|        Wireless|          5|            0|          0|   N|                Y|Great headphones ...|We love these hea...| 2015-08-31|\n",
            "|         US|    6042304|R2DRG0UZXJQ0PE|B00TN4J1TA|     716174627|Anker Aluminum Mu...|        Wireless|          5|            0|          0|   N|                Y|          Five Stars|This is well wort...| 2015-08-31|\n",
            "+-----------+-----------+--------------+----------+--------------+--------------------+----------------+-----------+-------------+-----------+----+-----------------+--------------------+--------------------+-----------+\n",
            "only showing top 20 rows\n",
            "\n"
          ]
        }
      ]
    },
    {
      "cell_type": "code",
      "source": [
        "# 1. Filter the data and create a new DataFrame or table to retrieve all the rows where the \n",
        "# total_votes count is equal to or greater than 20 to pick reviews that are more likely to be \n",
        "# helpful and to avoid having division by zero errors later on.\n",
        "\n",
        "vine_df = df.select([\"review_id\",\"star_rating\",\"helpful_votes\",\"total_votes\",\"vine\",\"verified_purchase\"])\n",
        "vote_count = vine_df.filter(\"total_votes >= 20\")\n",
        "vote_count.show(truncate=False)"
      ],
      "metadata": {
        "colab": {
          "base_uri": "https://localhost:8080/"
        },
        "id": "hG0Lm7RvgXgh",
        "outputId": "af5bf69c-01a6-4dcb-ff75-20d98366f0c3"
      },
      "execution_count": 5,
      "outputs": [
        {
          "output_type": "stream",
          "name": "stdout",
          "text": [
            "+--------------+-----------+-------------+-----------+----+-----------------+\n",
            "|review_id     |star_rating|helpful_votes|total_votes|vine|verified_purchase|\n",
            "+--------------+-----------+-------------+-----------+----+-----------------+\n",
            "|R2WOW0TURNXB26|3          |54           |59         |N   |Y                |\n",
            "|R13VL62Y2HBQ0B|5          |15           |21         |N   |Y                |\n",
            "|R22G55KAPZKJQV|4          |20           |21         |N   |Y                |\n",
            "|R1610PGTJS7G3N|2          |28           |44         |N   |Y                |\n",
            "|RLQL04BL0QXOJ |4          |45           |47         |N   |Y                |\n",
            "|R2AYJHH8WJNGAU|4          |98           |104        |N   |Y                |\n",
            "|R111DJA10Y6CMU|5          |26           |39         |N   |Y                |\n",
            "|R2EE2TR4MRDV0U|5          |53           |59         |N   |Y                |\n",
            "|RD4A80I5JDHED |5          |69           |77         |N   |N                |\n",
            "|R1GU6IYZQWQE8X|2          |24           |25         |N   |Y                |\n",
            "|RZOPM62JMW97V |2          |103          |108        |N   |Y                |\n",
            "|R21GLR3TD27ISV|3          |4            |22         |N   |Y                |\n",
            "|R1D3NR5GREEXXJ|5          |57           |58         |N   |Y                |\n",
            "|R24BMEHX5EWGEY|2          |26           |30         |N   |Y                |\n",
            "|R2WYKBQS8OR08O|5          |168          |176        |N   |Y                |\n",
            "|R3DL0Y1KWYLD5X|5          |36           |37         |N   |Y                |\n",
            "|R3EGDTFDMCOOG4|5          |74           |90         |N   |N                |\n",
            "|R1MC93W6WG9R3O|1          |22           |22         |N   |Y                |\n",
            "|R35B0B69DYR54L|1          |18           |22         |N   |Y                |\n",
            "|R1593EM56412NH|4          |33           |37         |N   |Y                |\n",
            "+--------------+-----------+-------------+-----------+----+-----------------+\n",
            "only showing top 20 rows\n",
            "\n"
          ]
        }
      ]
    },
    {
      "cell_type": "code",
      "source": [
        "# 2. Filter the new DataFrame or table created in Step 1 and create a new DataFrame or \n",
        "# table to retrieve all the rows where the number of helpful_votes divided by total_votes \n",
        "# is equal to or greater than 50%.\n",
        "\n",
        "cleaned_helpful_votes = vote_count.filter(vote_count[\"helpful_votes\"]/vote_count[\"total_votes\"] >=0.5)\n",
        "cleaned_helpful_votes.show(truncate=False)"
      ],
      "metadata": {
        "colab": {
          "base_uri": "https://localhost:8080/"
        },
        "id": "MaKT6YnfhR9q",
        "outputId": "b3cddfd4-2495-49cc-cc06-442580f0f04e"
      },
      "execution_count": 6,
      "outputs": [
        {
          "output_type": "stream",
          "name": "stdout",
          "text": [
            "+--------------+-----------+-------------+-----------+----+-----------------+\n",
            "|review_id     |star_rating|helpful_votes|total_votes|vine|verified_purchase|\n",
            "+--------------+-----------+-------------+-----------+----+-----------------+\n",
            "|R2WOW0TURNXB26|3          |54           |59         |N   |Y                |\n",
            "|R13VL62Y2HBQ0B|5          |15           |21         |N   |Y                |\n",
            "|R22G55KAPZKJQV|4          |20           |21         |N   |Y                |\n",
            "|R1610PGTJS7G3N|2          |28           |44         |N   |Y                |\n",
            "|RLQL04BL0QXOJ |4          |45           |47         |N   |Y                |\n",
            "|R2AYJHH8WJNGAU|4          |98           |104        |N   |Y                |\n",
            "|R111DJA10Y6CMU|5          |26           |39         |N   |Y                |\n",
            "|R2EE2TR4MRDV0U|5          |53           |59         |N   |Y                |\n",
            "|RD4A80I5JDHED |5          |69           |77         |N   |N                |\n",
            "|R1GU6IYZQWQE8X|2          |24           |25         |N   |Y                |\n",
            "|RZOPM62JMW97V |2          |103          |108        |N   |Y                |\n",
            "|R1D3NR5GREEXXJ|5          |57           |58         |N   |Y                |\n",
            "|R24BMEHX5EWGEY|2          |26           |30         |N   |Y                |\n",
            "|R2WYKBQS8OR08O|5          |168          |176        |N   |Y                |\n",
            "|R3DL0Y1KWYLD5X|5          |36           |37         |N   |Y                |\n",
            "|R3EGDTFDMCOOG4|5          |74           |90         |N   |N                |\n",
            "|R1MC93W6WG9R3O|1          |22           |22         |N   |Y                |\n",
            "|R35B0B69DYR54L|1          |18           |22         |N   |Y                |\n",
            "|R1593EM56412NH|4          |33           |37         |N   |Y                |\n",
            "|R1KEP1DUJK2LD5|5          |34           |42         |N   |Y                |\n",
            "+--------------+-----------+-------------+-----------+----+-----------------+\n",
            "only showing top 20 rows\n",
            "\n"
          ]
        }
      ]
    },
    {
      "cell_type": "code",
      "source": [
        "# 3. Filter the DataFrame or table created in Step 2, and create a new DataFrame \n",
        "# or table that retrieves all the rows where a review was written as part of the \n",
        "# Vine program (paid), vine == 'Y'.\n",
        "\n",
        "vine_yes = cleaned_helpful_votes.filter(cleaned_helpful_votes['vine'] == 'Y')\n",
        "vine_yes.show(truncate=False)"
      ],
      "metadata": {
        "colab": {
          "base_uri": "https://localhost:8080/"
        },
        "id": "M2NyBtkxhrtP",
        "outputId": "78deda2f-6b5d-48bf-dd99-377697386e16"
      },
      "execution_count": 7,
      "outputs": [
        {
          "output_type": "stream",
          "name": "stdout",
          "text": [
            "+--------------+-----------+-------------+-----------+----+-----------------+\n",
            "|review_id     |star_rating|helpful_votes|total_votes|vine|verified_purchase|\n",
            "+--------------+-----------+-------------+-----------+----+-----------------+\n",
            "|R1MAOLI5FJHAFM|4          |249          |261        |Y   |N                |\n",
            "|R9PYAUDIBJVEC |4          |12           |22         |Y   |N                |\n",
            "|R6V9SHMMG5M8F |5          |101          |110        |Y   |N                |\n",
            "|R37PVLT6ELL5J4|4          |181          |209        |Y   |N                |\n",
            "|R2FSFGWZF24V9 |4          |50           |51         |Y   |N                |\n",
            "|R3SRW1E8J56IGV|5          |262          |281        |Y   |N                |\n",
            "|R86Z11D4CWOFM |4          |32           |36         |Y   |N                |\n",
            "|RNP01HW9YISJO |4          |20           |23         |Y   |N                |\n",
            "|R3KLACA6LCDZ0S|3          |21           |22         |Y   |N                |\n",
            "|RZEQYOT2RE0N7 |4          |75           |80         |Y   |N                |\n",
            "|R2WBPX441TH495|5          |202          |221        |Y   |N                |\n",
            "|R2BYBSYHS66ZN8|5          |109          |114        |Y   |N                |\n",
            "|R3IF59PJGCNU3Q|4          |42           |54         |Y   |N                |\n",
            "|R2IXC6U7W4OCQ9|5          |185          |201        |Y   |N                |\n",
            "|R1JEI3H9QRP6PH|5          |15           |22         |Y   |N                |\n",
            "|R37L3KGRRR6JTL|3          |38           |47         |Y   |N                |\n",
            "|R1YJ7OKAEML92P|5          |20           |22         |Y   |N                |\n",
            "|R3JZJOD2512UVY|4          |85           |101        |Y   |N                |\n",
            "|R38MY3TK17MXDH|4          |25           |32         |Y   |N                |\n",
            "|R2LWISZ4DSM0I4|5          |28           |33         |Y   |N                |\n",
            "+--------------+-----------+-------------+-----------+----+-----------------+\n",
            "only showing top 20 rows\n",
            "\n"
          ]
        }
      ]
    },
    {
      "cell_type": "code",
      "source": [
        "# 4. Repeat Step 3, but this time retrieve all the rows where the review was \n",
        "# not part of the Vine program (unpaid), vine == 'N'.\n",
        "\n",
        "vine_no = cleaned_helpful_votes.filter(cleaned_helpful_votes['vine'] == 'N')\n",
        "vine_no.show(truncate=False)"
      ],
      "metadata": {
        "colab": {
          "base_uri": "https://localhost:8080/"
        },
        "id": "0v3EdEBNiK2-",
        "outputId": "2821ae66-1e48-46dc-8fbd-70443bcbc4e9"
      },
      "execution_count": 8,
      "outputs": [
        {
          "output_type": "stream",
          "name": "stdout",
          "text": [
            "+--------------+-----------+-------------+-----------+----+-----------------+\n",
            "|review_id     |star_rating|helpful_votes|total_votes|vine|verified_purchase|\n",
            "+--------------+-----------+-------------+-----------+----+-----------------+\n",
            "|R2WOW0TURNXB26|3          |54           |59         |N   |Y                |\n",
            "|R13VL62Y2HBQ0B|5          |15           |21         |N   |Y                |\n",
            "|R22G55KAPZKJQV|4          |20           |21         |N   |Y                |\n",
            "|R1610PGTJS7G3N|2          |28           |44         |N   |Y                |\n",
            "|RLQL04BL0QXOJ |4          |45           |47         |N   |Y                |\n",
            "|R2AYJHH8WJNGAU|4          |98           |104        |N   |Y                |\n",
            "|R111DJA10Y6CMU|5          |26           |39         |N   |Y                |\n",
            "|R2EE2TR4MRDV0U|5          |53           |59         |N   |Y                |\n",
            "|RD4A80I5JDHED |5          |69           |77         |N   |N                |\n",
            "|R1GU6IYZQWQE8X|2          |24           |25         |N   |Y                |\n",
            "|RZOPM62JMW97V |2          |103          |108        |N   |Y                |\n",
            "|R1D3NR5GREEXXJ|5          |57           |58         |N   |Y                |\n",
            "|R24BMEHX5EWGEY|2          |26           |30         |N   |Y                |\n",
            "|R2WYKBQS8OR08O|5          |168          |176        |N   |Y                |\n",
            "|R3DL0Y1KWYLD5X|5          |36           |37         |N   |Y                |\n",
            "|R3EGDTFDMCOOG4|5          |74           |90         |N   |N                |\n",
            "|R1MC93W6WG9R3O|1          |22           |22         |N   |Y                |\n",
            "|R35B0B69DYR54L|1          |18           |22         |N   |Y                |\n",
            "|R1593EM56412NH|4          |33           |37         |N   |Y                |\n",
            "|R1KEP1DUJK2LD5|5          |34           |42         |N   |Y                |\n",
            "+--------------+-----------+-------------+-----------+----+-----------------+\n",
            "only showing top 20 rows\n",
            "\n"
          ]
        }
      ]
    },
    {
      "cell_type": "code",
      "source": [
        "# 5. Determine the total number of reviews, the number of 5-star reviews, \n",
        "# and the percentage of 5-star reviews for the two types of review (paid vs unpaid).\n",
        "\n",
        "paid_reviews = vine_yes.count()\n",
        "unpaid_reviews = vine_no.count()\n",
        "\n",
        "paid_fivestar = vine_yes.filter(vine_yes['star_rating'] == 5).count()\n",
        "unpaid_fivestar = vine_no.filter(vine_no['star_rating'] == 5).count()\n",
        "\n",
        "paid_percentage_fivestar = (paid_fivestar/paid_reviews) * 100\n",
        "unpaid_percentage_fivestar = (unpaid_fivestar/unpaid_reviews) * 100\n",
        "#print(\"Accutacy of model at prediting reviews was: %f\" % acc)\n",
        "\n",
        "print(\"Total number of  paid reviews: %f\" % paid_reviews)\n",
        "print(\"Total number of paid 5 star reviews: %f\" % paid_fivestar)\n",
        "print(\"Percentage of  paid 5-star reviews: %f\" % paid_percentage_fivestar)\n",
        "print(\"Total number of  unpaid reviews: %f\" % unpaid_reviews)\n",
        "print(\"Total number of unpaid 5 star reviews: %f\" % unpaid_fivestar)\n",
        "print(\"Percentage of  unpaid 5-star reviews: %f\" % unpaid_percentage_fivestar)"
      ],
      "metadata": {
        "colab": {
          "base_uri": "https://localhost:8080/"
        },
        "id": "S8bqaaPUiYpe",
        "outputId": "03328f32-6676-4f6b-bda7-278115486c28"
      },
      "execution_count": 9,
      "outputs": [
        {
          "output_type": "stream",
          "name": "stdout",
          "text": [
            "Total number of  paid reviews: 613.000000\n",
            "Total number of paid 5 star reviews: 222.000000\n",
            "Percentage of  paid 5-star reviews: 36.215334\n",
            "Total number of  unpaid reviews: 64968.000000\n",
            "Total number of unpaid 5 star reviews: 30543.000000\n",
            "Percentage of  unpaid 5-star reviews: 47.012375\n"
          ]
        }
      ]
    },
    {
      "cell_type": "code",
      "source": [],
      "metadata": {
        "id": "RRPat_NskWVq"
      },
      "execution_count": 9,
      "outputs": []
    },
    {
      "cell_type": "code",
      "source": [],
      "metadata": {
        "id": "Zr9b9xrYlkrl"
      },
      "execution_count": 9,
      "outputs": []
    }
  ]
}